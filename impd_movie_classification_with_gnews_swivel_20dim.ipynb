{
 "cells": [
  {
   "cell_type": "markdown",
   "metadata": {
    "id": "E3jPxIGsy_00"
   },
   "source": [
    "Install tensorflow hub for pre-trained models"
   ]
  },
  {
   "cell_type": "code",
   "execution_count": 20,
   "metadata": {
    "colab": {
     "base_uri": "https://localhost:8080/"
    },
    "id": "YMZJqOr-ycnT",
    "outputId": "3079d879-1c34-4eca-87e1-5b763d214bb9"
   },
   "outputs": [
    {
     "name": "stdout",
     "output_type": "stream",
     "text": [
      "Looking in indexes: https://pypi.org/simple, https://us-python.pkg.dev/colab-wheels/public/simple/\n",
      "Requirement already satisfied: tensorflow_hub in /usr/local/lib/python3.7/dist-packages (0.12.0)\n",
      "Requirement already satisfied: protobuf>=3.8.0 in /usr/local/lib/python3.7/dist-packages (from tensorflow_hub) (3.17.3)\n",
      "Requirement already satisfied: numpy>=1.12.0 in /usr/local/lib/python3.7/dist-packages (from tensorflow_hub) (1.21.6)\n",
      "Requirement already satisfied: six>=1.9 in /usr/local/lib/python3.7/dist-packages (from protobuf>=3.8.0->tensorflow_hub) (1.15.0)\n"
     ]
    }
   ],
   "source": [
    "!pip install tensorflow_hub  "
   ]
  },
  {
   "cell_type": "markdown",
   "metadata": {
    "id": "j5Qu5qeL_voY"
   },
   "source": [
    "Installing tensorflow dataset"
   ]
  },
  {
   "cell_type": "code",
   "execution_count": 21,
   "metadata": {
    "colab": {
     "base_uri": "https://localhost:8080/"
    },
    "id": "XXlq0DADzLoo",
    "outputId": "ba333652-5694-449b-abdb-5e15771914a7"
   },
   "outputs": [
    {
     "name": "stdout",
     "output_type": "stream",
     "text": [
      "Looking in indexes: https://pypi.org/simple, https://us-python.pkg.dev/colab-wheels/public/simple/\n",
      "Requirement already satisfied: tensorflow_datasets in /usr/local/lib/python3.7/dist-packages (4.6.0)\n",
      "Requirement already satisfied: tqdm in /usr/local/lib/python3.7/dist-packages (from tensorflow_datasets) (4.64.0)\n",
      "Requirement already satisfied: typing-extensions in /usr/local/lib/python3.7/dist-packages (from tensorflow_datasets) (4.1.1)\n",
      "Requirement already satisfied: tensorflow-metadata in /usr/local/lib/python3.7/dist-packages (from tensorflow_datasets) (1.9.0)\n",
      "Requirement already satisfied: toml in /usr/local/lib/python3.7/dist-packages (from tensorflow_datasets) (0.10.2)\n",
      "Requirement already satisfied: numpy in /usr/local/lib/python3.7/dist-packages (from tensorflow_datasets) (1.21.6)\n",
      "Requirement already satisfied: promise in /usr/local/lib/python3.7/dist-packages (from tensorflow_datasets) (2.3)\n",
      "Requirement already satisfied: protobuf>=3.12.2 in /usr/local/lib/python3.7/dist-packages (from tensorflow_datasets) (3.17.3)\n",
      "Requirement already satisfied: requests>=2.19.0 in /usr/local/lib/python3.7/dist-packages (from tensorflow_datasets) (2.23.0)\n",
      "Requirement already satisfied: importlib-resources in /usr/local/lib/python3.7/dist-packages (from tensorflow_datasets) (5.9.0)\n",
      "Requirement already satisfied: six in /usr/local/lib/python3.7/dist-packages (from tensorflow_datasets) (1.15.0)\n",
      "Requirement already satisfied: termcolor in /usr/local/lib/python3.7/dist-packages (from tensorflow_datasets) (1.1.0)\n",
      "Requirement already satisfied: absl-py in /usr/local/lib/python3.7/dist-packages (from tensorflow_datasets) (1.2.0)\n",
      "Requirement already satisfied: dill in /usr/local/lib/python3.7/dist-packages (from tensorflow_datasets) (0.3.5.1)\n",
      "Requirement already satisfied: etils[epath] in /usr/local/lib/python3.7/dist-packages (from tensorflow_datasets) (0.7.1)\n",
      "Requirement already satisfied: chardet<4,>=3.0.2 in /usr/local/lib/python3.7/dist-packages (from requests>=2.19.0->tensorflow_datasets) (3.0.4)\n",
      "Requirement already satisfied: urllib3!=1.25.0,!=1.25.1,<1.26,>=1.21.1 in /usr/local/lib/python3.7/dist-packages (from requests>=2.19.0->tensorflow_datasets) (1.24.3)\n",
      "Requirement already satisfied: idna<3,>=2.5 in /usr/local/lib/python3.7/dist-packages (from requests>=2.19.0->tensorflow_datasets) (2.10)\n",
      "Requirement already satisfied: certifi>=2017.4.17 in /usr/local/lib/python3.7/dist-packages (from requests>=2.19.0->tensorflow_datasets) (2022.6.15)\n",
      "Requirement already satisfied: zipp in /usr/local/lib/python3.7/dist-packages (from etils[epath]->tensorflow_datasets) (3.8.1)\n",
      "Requirement already satisfied: googleapis-common-protos<2,>=1.52.0 in /usr/local/lib/python3.7/dist-packages (from tensorflow-metadata->tensorflow_datasets) (1.56.4)\n"
     ]
    }
   ],
   "source": [
    "!pip install tensorflow_datasets"
   ]
  },
  {
   "cell_type": "markdown",
   "metadata": {
    "id": "m8BEftSr_5S2"
   },
   "source": [
    "Pre-requisists"
   ]
  },
  {
   "cell_type": "code",
   "execution_count": 22,
   "metadata": {
    "id": "FW3Ai7K8_ywS"
   },
   "outputs": [],
   "source": [
    "import tensorflow as tf\n",
    "import tensorflow_hub as hub\n",
    "import tensorflow_datasets as tfds"
   ]
  },
  {
   "cell_type": "markdown",
   "metadata": {
    "id": "LgaCFyK6AJWY"
   },
   "source": [
    "Load IMPD Movie Reviews dataset"
   ]
  },
  {
   "cell_type": "code",
   "execution_count": 23,
   "metadata": {
    "id": "bfHMjnqxAIZx"
   },
   "outputs": [],
   "source": [
    "from os.path import split\n",
    "train_data, test_data = tfds.load(name=\"imdb_reviews\", \n",
    "                                  split=[\"train\", \"test\"], \n",
    "                                  batch_size=-1, \n",
    "                                  as_supervised=True)\n",
    "\n",
    "train_examples, train_labels = tfds.as_numpy(train_data)\n",
    "test_examples, test_labels = tfds.as_numpy(test_data)\n"
   ]
  },
  {
   "cell_type": "code",
   "execution_count": 24,
   "metadata": {
    "colab": {
     "base_uri": "https://localhost:8080/"
    },
    "id": "5KGC3u4xAr0n",
    "outputId": "84867d7b-c068-48ba-b2df-160c99c3c27f"
   },
   "outputs": [
    {
     "data": {
      "text/plain": [
       "((25000,), (25000,))"
      ]
     },
     "execution_count": 24,
     "metadata": {},
     "output_type": "execute_result"
    }
   ],
   "source": [
    "train_examples.shape, train_labels.shape"
   ]
  },
  {
   "cell_type": "markdown",
   "metadata": {
    "id": "GvC4WqqjBbZW"
   },
   "source": [
    "### Load a pretrained embedding model called gnews-swivel-20dim. \n",
    "\n",
    "(Google trained this network on GNEWS data and can convert raw text into vectors.)"
   ]
  },
  {
   "cell_type": "code",
   "execution_count": 25,
   "metadata": {
    "id": "aLj5KrgiBLbC"
   },
   "outputs": [],
   "source": [
    "model = \"https://tfhub.dev/google/tf2-preview/gnews-swivel-20dim/1\"\n",
    "hub_layer = hub.KerasLayer(model, \n",
    "                           output_shape=[20], \n",
    "                           input_shape=[], \n",
    "                           dtype=tf.string, \n",
    "                           trainable=True)"
   ]
  },
  {
   "cell_type": "code",
   "execution_count": 26,
   "metadata": {
    "colab": {
     "base_uri": "https://localhost:8080/"
    },
    "id": "conzqesPBqyI",
    "outputId": "3818477d-f4a5-436e-d1fa-727f098f7ddb"
   },
   "outputs": [
    {
     "name": "stdout",
     "output_type": "stream",
     "text": [
      "tf.Tensor(\n",
      "[[ 1.7657859  -3.882232    3.913424   -1.5557289  -3.3362343  -1.7357956\n",
      "  -1.9954445   1.298955    5.081597   -1.1041285  -2.0503852  -0.7267516\n",
      "  -0.6567596   0.24436145 -3.7208388   2.0954835   2.2969332  -2.0689783\n",
      "  -2.9489715  -1.1315986 ]\n",
      " [ 1.8804485  -2.5852385   3.4066994   1.0982676  -4.056685   -4.891284\n",
      "  -2.7855542   1.3874227   3.8476458  -0.9256539  -1.896706    1.2113281\n",
      "   0.11474716  0.76209456 -4.8791065   2.906149    4.7087674  -2.3652055\n",
      "  -3.5015903  -1.6390051 ]], shape=(2, 20), dtype=float32)\n"
     ]
    }
   ],
   "source": [
    "# Check wort-to-vector conversion\n",
    "print(hub_layer(train_examples[:2]))"
   ]
  },
  {
   "cell_type": "markdown",
   "metadata": {
    "id": "09ispIdgCMdJ"
   },
   "source": [
    "Add an output layer for binary classification"
   ]
  },
  {
   "cell_type": "code",
   "execution_count": 27,
   "metadata": {
    "colab": {
     "base_uri": "https://localhost:8080/"
    },
    "id": "cvYKcZcZCFSJ",
    "outputId": "37c1cd06-6d82-4c55-c586-d67d804d60fd"
   },
   "outputs": [
    {
     "name": "stdout",
     "output_type": "stream",
     "text": [
      "Model: \"sequential_1\"\n",
      "_________________________________________________________________\n",
      " Layer (type)                Output Shape              Param #   \n",
      "=================================================================\n",
      " keras_layer_1 (KerasLayer)  (None, 20)                400020    \n",
      "                                                                 \n",
      " dense_2 (Dense)             (None, 16)                336       \n",
      "                                                                 \n",
      " dense_3 (Dense)             (None, 1)                 17        \n",
      "                                                                 \n",
      "=================================================================\n",
      "Total params: 400,373\n",
      "Trainable params: 400,373\n",
      "Non-trainable params: 0\n",
      "_________________________________________________________________\n"
     ]
    }
   ],
   "source": [
    "model = tf.keras.Sequential()\n",
    "model.add(hub_layer)\n",
    "model.add(tf.keras.layers.Dense(16, activation='relu'))\n",
    "model.add(tf.keras.layers.Dense(1, activation='sigmoid'))\n",
    "\n",
    "model.summary()"
   ]
  },
  {
   "cell_type": "code",
   "execution_count": 28,
   "metadata": {
    "id": "FvamsErWCoXk"
   },
   "outputs": [],
   "source": [
    "model.compile(optimizer='adam',\n",
    "              loss='binary_crossentropy',\n",
    "              metrics=['accuracy'])\n",
    "\n",
    "# Save initial random weights for later reference\n",
    "init_weights = model.get_weights()"
   ]
  },
  {
   "cell_type": "markdown",
   "metadata": {
    "id": "2w9uRR1LDOiX"
   },
   "source": [
    "Split train set and validation set"
   ]
  },
  {
   "cell_type": "code",
   "execution_count": 29,
   "metadata": {
    "id": "bUS40RZHDDm0"
   },
   "outputs": [],
   "source": [
    "x_val = train_examples[:10000]\n",
    "partial_x_train = train_examples[10000:]\n",
    "\n",
    "y_val = train_labels[:10000]\n",
    "partial_y_train = train_labels[10000:]"
   ]
  },
  {
   "cell_type": "markdown",
   "metadata": {
    "id": "nU48ChgIDgJK"
   },
   "source": [
    "### Train the model"
   ]
  },
  {
   "cell_type": "code",
   "execution_count": 30,
   "metadata": {
    "colab": {
     "base_uri": "https://localhost:8080/"
    },
    "id": "YLL_biLtDV4Z",
    "outputId": "ebe1c062-7e0f-44be-ba84-818545a8faff"
   },
   "outputs": [
    {
     "name": "stdout",
     "output_type": "stream",
     "text": [
      "Epoch 1/40\n",
      "30/30 [==============================] - 2s 52ms/step - loss: 1.0986 - accuracy: 0.5252 - val_loss: 0.8095 - val_accuracy: 0.5196\n",
      "Epoch 2/40\n",
      "30/30 [==============================] - 1s 40ms/step - loss: 0.7413 - accuracy: 0.5799 - val_loss: 0.6946 - val_accuracy: 0.6017\n",
      "Epoch 3/40\n",
      "30/30 [==============================] - 1s 46ms/step - loss: 0.6455 - accuracy: 0.6505 - val_loss: 0.6156 - val_accuracy: 0.6710\n",
      "Epoch 4/40\n",
      "30/30 [==============================] - 1s 40ms/step - loss: 0.5862 - accuracy: 0.6982 - val_loss: 0.5765 - val_accuracy: 0.7032\n",
      "Epoch 5/40\n",
      "30/30 [==============================] - 1s 39ms/step - loss: 0.5477 - accuracy: 0.7322 - val_loss: 0.5473 - val_accuracy: 0.7290\n",
      "Epoch 6/40\n",
      "30/30 [==============================] - 1s 40ms/step - loss: 0.5149 - accuracy: 0.7577 - val_loss: 0.5205 - val_accuracy: 0.7484\n",
      "Epoch 7/40\n",
      "30/30 [==============================] - 1s 47ms/step - loss: 0.4834 - accuracy: 0.7791 - val_loss: 0.4947 - val_accuracy: 0.7679\n",
      "Epoch 8/40\n",
      "30/30 [==============================] - 2s 72ms/step - loss: 0.4523 - accuracy: 0.7999 - val_loss: 0.4701 - val_accuracy: 0.7797\n",
      "Epoch 9/40\n",
      "30/30 [==============================] - 2s 77ms/step - loss: 0.4211 - accuracy: 0.8196 - val_loss: 0.4447 - val_accuracy: 0.7970\n",
      "Epoch 10/40\n",
      "30/30 [==============================] - 2s 82ms/step - loss: 0.3909 - accuracy: 0.8367 - val_loss: 0.4220 - val_accuracy: 0.8132\n",
      "Epoch 11/40\n",
      "30/30 [==============================] - 2s 77ms/step - loss: 0.3624 - accuracy: 0.8527 - val_loss: 0.4023 - val_accuracy: 0.8229\n",
      "Epoch 12/40\n",
      "30/30 [==============================] - 2s 68ms/step - loss: 0.3346 - accuracy: 0.8664 - val_loss: 0.3810 - val_accuracy: 0.8345\n",
      "Epoch 13/40\n",
      "30/30 [==============================] - 2s 72ms/step - loss: 0.3089 - accuracy: 0.8803 - val_loss: 0.3674 - val_accuracy: 0.8412\n",
      "Epoch 14/40\n",
      "30/30 [==============================] - 1s 46ms/step - loss: 0.2857 - accuracy: 0.8889 - val_loss: 0.3503 - val_accuracy: 0.8498\n",
      "Epoch 15/40\n",
      "30/30 [==============================] - 1s 39ms/step - loss: 0.2644 - accuracy: 0.9007 - val_loss: 0.3403 - val_accuracy: 0.8553\n",
      "Epoch 16/40\n",
      "30/30 [==============================] - 1s 39ms/step - loss: 0.2450 - accuracy: 0.9097 - val_loss: 0.3275 - val_accuracy: 0.8621\n",
      "Epoch 17/40\n",
      "30/30 [==============================] - 1s 40ms/step - loss: 0.2272 - accuracy: 0.9192 - val_loss: 0.3194 - val_accuracy: 0.8688\n",
      "Epoch 18/40\n",
      "30/30 [==============================] - 1s 39ms/step - loss: 0.2116 - accuracy: 0.9254 - val_loss: 0.3167 - val_accuracy: 0.8709\n",
      "Epoch 19/40\n",
      "30/30 [==============================] - 1s 39ms/step - loss: 0.1982 - accuracy: 0.9307 - val_loss: 0.3088 - val_accuracy: 0.8735\n",
      "Epoch 20/40\n",
      "30/30 [==============================] - 1s 39ms/step - loss: 0.1843 - accuracy: 0.9385 - val_loss: 0.3044 - val_accuracy: 0.8760\n",
      "Epoch 21/40\n",
      "30/30 [==============================] - 1s 39ms/step - loss: 0.1721 - accuracy: 0.9441 - val_loss: 0.3053 - val_accuracy: 0.8753\n",
      "Epoch 22/40\n",
      "30/30 [==============================] - 1s 39ms/step - loss: 0.1617 - accuracy: 0.9479 - val_loss: 0.3005 - val_accuracy: 0.8777\n",
      "Epoch 23/40\n",
      "30/30 [==============================] - 1s 39ms/step - loss: 0.1511 - accuracy: 0.9523 - val_loss: 0.2995 - val_accuracy: 0.8779\n",
      "Epoch 24/40\n",
      "30/30 [==============================] - 1s 39ms/step - loss: 0.1418 - accuracy: 0.9569 - val_loss: 0.3008 - val_accuracy: 0.8780\n",
      "Epoch 25/40\n",
      "30/30 [==============================] - 1s 40ms/step - loss: 0.1325 - accuracy: 0.9607 - val_loss: 0.3035 - val_accuracy: 0.8753\n",
      "Epoch 26/40\n",
      "30/30 [==============================] - 1s 40ms/step - loss: 0.1248 - accuracy: 0.9642 - val_loss: 0.3034 - val_accuracy: 0.8761\n",
      "Epoch 27/40\n",
      "30/30 [==============================] - 1s 40ms/step - loss: 0.1163 - accuracy: 0.9665 - val_loss: 0.3071 - val_accuracy: 0.8744\n",
      "Epoch 28/40\n",
      "30/30 [==============================] - 1s 39ms/step - loss: 0.1090 - accuracy: 0.9702 - val_loss: 0.3073 - val_accuracy: 0.8768\n",
      "Epoch 29/40\n",
      "30/30 [==============================] - 1s 40ms/step - loss: 0.1022 - accuracy: 0.9730 - val_loss: 0.3103 - val_accuracy: 0.8766\n",
      "Epoch 30/40\n",
      "30/30 [==============================] - 1s 39ms/step - loss: 0.0962 - accuracy: 0.9751 - val_loss: 0.3139 - val_accuracy: 0.8763\n",
      "Epoch 31/40\n",
      "30/30 [==============================] - 1s 40ms/step - loss: 0.0899 - accuracy: 0.9769 - val_loss: 0.3182 - val_accuracy: 0.8753\n",
      "Epoch 32/40\n",
      "30/30 [==============================] - 1s 39ms/step - loss: 0.0843 - accuracy: 0.9794 - val_loss: 0.3230 - val_accuracy: 0.8746\n",
      "Epoch 33/40\n",
      "30/30 [==============================] - 1s 40ms/step - loss: 0.0786 - accuracy: 0.9817 - val_loss: 0.3297 - val_accuracy: 0.8732\n",
      "Epoch 34/40\n",
      "30/30 [==============================] - 1s 40ms/step - loss: 0.0740 - accuracy: 0.9837 - val_loss: 0.3316 - val_accuracy: 0.8743\n",
      "Epoch 35/40\n",
      "30/30 [==============================] - 1s 40ms/step - loss: 0.0693 - accuracy: 0.9852 - val_loss: 0.3368 - val_accuracy: 0.8735\n",
      "Epoch 36/40\n",
      "30/30 [==============================] - 1s 40ms/step - loss: 0.0645 - accuracy: 0.9867 - val_loss: 0.3425 - val_accuracy: 0.8726\n",
      "Epoch 37/40\n",
      "30/30 [==============================] - 1s 40ms/step - loss: 0.0601 - accuracy: 0.9887 - val_loss: 0.3481 - val_accuracy: 0.8725\n",
      "Epoch 38/40\n",
      "30/30 [==============================] - 1s 40ms/step - loss: 0.0566 - accuracy: 0.9897 - val_loss: 0.3564 - val_accuracy: 0.8708\n",
      "Epoch 39/40\n",
      "30/30 [==============================] - 1s 40ms/step - loss: 0.0529 - accuracy: 0.9907 - val_loss: 0.3595 - val_accuracy: 0.8711\n",
      "Epoch 40/40\n",
      "30/30 [==============================] - 1s 40ms/step - loss: 0.0491 - accuracy: 0.9929 - val_loss: 0.3659 - val_accuracy: 0.8703\n"
     ]
    }
   ],
   "source": [
    "history = model.fit(partial_x_train,\n",
    "                    partial_y_train,\n",
    "                    epochs=40,\n",
    "                    batch_size=512,\n",
    "                    validation_data=(x_val, y_val),\n",
    "                    verbose=1)"
   ]
  },
  {
   "cell_type": "markdown",
   "metadata": {
    "id": "W08NgNG0D3iF"
   },
   "source": [
    "Evaluate the model"
   ]
  },
  {
   "cell_type": "code",
   "execution_count": 31,
   "metadata": {
    "id": "g17izylqDkQT"
   },
   "outputs": [],
   "source": [
    "%matplotlib inline\n",
    "import matplotlib.pyplot as plt\n",
    "\n",
    "def summarize_loss(history):\n",
    "  history_dict = history.history\n",
    "  loss = history_dict['loss']\n",
    "  val_loss = history_dict['val_loss']\n",
    "\n",
    "  epochs = range(1, len(loss) + 1)\n",
    "\n",
    "  plt.plot(epochs, loss, 'bo', label='Training loss')\n",
    "  plt.plot(epochs, val_loss, 'b', label='Validation loss')\n",
    "  plt.title('Training and validation loss')\n",
    "  plt.xlabel('Epochs')\n",
    "  plt.ylabel('Loss')\n",
    "  plt.legend()\n",
    "\n",
    "  plt.show()\n",
    "\n",
    "def summarize_accuracy(history):\n",
    "  history_dict = history.history\n",
    "  acc = history_dict['accuracy']\n",
    "  val_acc = history_dict['val_accuracy']\n",
    "\n",
    "  epochs = range(1, len(acc) + 1)\n",
    "\n",
    "  plt.plot(epochs, acc, 'bo', label='Training acc')\n",
    "  plt.plot(epochs, val_acc, 'b', label='Validation acc')\n",
    "  plt.title('Training and validation accuracy')\n",
    "  plt.xlabel('Epochs')\n",
    "  plt.ylabel('Accuracy')\n",
    "  plt.legend()\n",
    "\n",
    "  plt.show()"
   ]
  },
  {
   "cell_type": "code",
   "execution_count": 32,
   "metadata": {
    "colab": {
     "base_uri": "https://localhost:8080/",
     "height": 295
    },
    "id": "vPH5vfN2D734",
    "outputId": "5e519e71-392a-4758-be41-7679a06eed7a"
   },
   "outputs": [
    {
     "data": {
      "image/png": "[encoded data removed]",
      "text/plain": [
       "<Figure size 432x288 with 1 Axes>"
      ]
     },
     "metadata": {
      "needs_background": "light"
     },
     "output_type": "display_data"
    }
   ],
   "source": [
    "summarize_loss(history)\n",
    "\n"
   ]
  },
  {
   "cell_type": "code",
   "execution_count": 33,
   "metadata": {
    "colab": {
     "base_uri": "https://localhost:8080/",
     "height": 295
    },
    "id": "Wx6YzGxGG8Bu",
    "outputId": "62f1a2eb-c965-4031-810a-366e4ecb0774"
   },
   "outputs": [
    {
     "data": {
      "image/png": "[encoded data removed]",
      "text/plain": [
       "<Figure size 432x288 with 1 Axes>"
      ]
     },
     "metadata": {
      "needs_background": "light"
     },
     "output_type": "display_data"
    }
   ],
   "source": [
    "summarize_accuracy(history)"
   ]
  },
  {
   "cell_type": "markdown",
   "metadata": {
    "id": "58D9wy6XEmMG"
   },
   "source": [
    "It seems this model has started overfitting arround 30 epochs. Best validation accuracy is arround 85-88%."
   ]
  },
  {
   "cell_type": "markdown",
   "metadata": {
    "id": "H0d66GXtFW_8"
   },
   "source": [
    "Use of Early stopping"
   ]
  },
  {
   "cell_type": "code",
   "execution_count": 34,
   "metadata": {
    "colab": {
     "base_uri": "https://localhost:8080/"
    },
    "id": "HxwfDtqzELnm",
    "outputId": "261c73a6-6ab5-43fa-e668-0a621c26fa9c"
   },
   "outputs": [
    {
     "name": "stdout",
     "output_type": "stream",
     "text": [
      "Epoch 1/40\n",
      "30/30 [==============================] - 1s 41ms/step - loss: 0.9542 - accuracy: 0.5389 - val_loss: 0.7034 - val_accuracy: 0.6056\n",
      "Epoch 2/40\n",
      "30/30 [==============================] - 1s 40ms/step - loss: 0.6485 - accuracy: 0.6385 - val_loss: 0.6203 - val_accuracy: 0.6645\n",
      "Epoch 3/40\n",
      "30/30 [==============================] - 1s 40ms/step - loss: 0.5952 - accuracy: 0.6891 - val_loss: 0.5855 - val_accuracy: 0.6948\n",
      "Epoch 4/40\n",
      "30/30 [==============================] - 1s 41ms/step - loss: 0.5602 - accuracy: 0.7242 - val_loss: 0.5574 - val_accuracy: 0.7220\n",
      "Epoch 5/40\n",
      "30/30 [==============================] - 1s 40ms/step - loss: 0.5293 - accuracy: 0.7491 - val_loss: 0.5309 - val_accuracy: 0.7463\n",
      "Epoch 6/40\n",
      "30/30 [==============================] - 1s 39ms/step - loss: 0.4979 - accuracy: 0.7705 - val_loss: 0.5040 - val_accuracy: 0.7605\n",
      "Epoch 7/40\n",
      "30/30 [==============================] - 1s 40ms/step - loss: 0.4654 - accuracy: 0.7914 - val_loss: 0.4773 - val_accuracy: 0.7748\n",
      "Epoch 8/40\n",
      "30/30 [==============================] - 1s 42ms/step - loss: 0.4339 - accuracy: 0.8109 - val_loss: 0.4524 - val_accuracy: 0.7897\n",
      "Epoch 9/40\n",
      "30/30 [==============================] - 1s 39ms/step - loss: 0.4030 - accuracy: 0.8287 - val_loss: 0.4290 - val_accuracy: 0.8044\n",
      "Epoch 10/40\n",
      "30/30 [==============================] - 1s 39ms/step - loss: 0.3751 - accuracy: 0.8426 - val_loss: 0.4070 - val_accuracy: 0.8166\n",
      "Epoch 11/40\n",
      "30/30 [==============================] - 1s 40ms/step - loss: 0.3478 - accuracy: 0.8567 - val_loss: 0.3887 - val_accuracy: 0.8283\n",
      "Epoch 12/40\n",
      "30/30 [==============================] - 1s 39ms/step - loss: 0.3232 - accuracy: 0.8671 - val_loss: 0.3725 - val_accuracy: 0.8382\n",
      "Epoch 13/40\n",
      "30/30 [==============================] - 1s 40ms/step - loss: 0.3012 - accuracy: 0.8777 - val_loss: 0.3586 - val_accuracy: 0.8453\n",
      "Epoch 14/40\n",
      "30/30 [==============================] - 1s 39ms/step - loss: 0.2805 - accuracy: 0.8873 - val_loss: 0.3475 - val_accuracy: 0.8518\n",
      "Epoch 15/40\n",
      "30/30 [==============================] - 1s 39ms/step - loss: 0.2620 - accuracy: 0.8971 - val_loss: 0.3383 - val_accuracy: 0.8567\n",
      "Epoch 16/40\n",
      "30/30 [==============================] - 1s 39ms/step - loss: 0.2462 - accuracy: 0.9049 - val_loss: 0.3298 - val_accuracy: 0.8602\n",
      "Epoch 17/40\n",
      "30/30 [==============================] - 1s 40ms/step - loss: 0.2305 - accuracy: 0.9129 - val_loss: 0.3234 - val_accuracy: 0.8640\n",
      "Epoch 18/40\n",
      "30/30 [==============================] - 1s 39ms/step - loss: 0.2161 - accuracy: 0.9196 - val_loss: 0.3191 - val_accuracy: 0.8668\n",
      "Epoch 19/40\n",
      "30/30 [==============================] - 1s 39ms/step - loss: 0.2042 - accuracy: 0.9253 - val_loss: 0.3163 - val_accuracy: 0.8669\n",
      "Epoch 20/40\n",
      "30/30 [==============================] - 1s 39ms/step - loss: 0.1913 - accuracy: 0.9327 - val_loss: 0.3115 - val_accuracy: 0.8700\n",
      "Epoch 21/40\n",
      "30/30 [==============================] - 1s 40ms/step - loss: 0.1806 - accuracy: 0.9375 - val_loss: 0.3098 - val_accuracy: 0.8718\n",
      "Epoch 22/40\n",
      "30/30 [==============================] - 1s 39ms/step - loss: 0.1702 - accuracy: 0.9422 - val_loss: 0.3081 - val_accuracy: 0.8725\n",
      "Epoch 23/40\n",
      "30/30 [==============================] - 1s 39ms/step - loss: 0.1607 - accuracy: 0.9470 - val_loss: 0.3099 - val_accuracy: 0.8735\n",
      "Epoch 24/40\n",
      "30/30 [==============================] - 1s 39ms/step - loss: 0.1515 - accuracy: 0.9511 - val_loss: 0.3076 - val_accuracy: 0.8764\n",
      "Epoch 25/40\n",
      "30/30 [==============================] - 1s 39ms/step - loss: 0.1426 - accuracy: 0.9544 - val_loss: 0.3081 - val_accuracy: 0.8760\n",
      "Epoch 26/40\n",
      "30/30 [==============================] - 1s 39ms/step - loss: 0.1355 - accuracy: 0.9575 - val_loss: 0.3099 - val_accuracy: 0.8762\n",
      "Epoch 27/40\n",
      "28/30 [===========================>..] - ETA: 0s - loss: 0.1280 - accuracy: 0.9606Restoring model weights from the end of the best epoch: 22.\n",
      "30/30 [==============================] - 1s 39ms/step - loss: 0.1278 - accuracy: 0.9606 - val_loss: 0.3135 - val_accuracy: 0.8761\n",
      "Epoch 27: early stopping\n"
     ]
    }
   ],
   "source": [
    "from tensorflow.keras.callbacks import EarlyStopping\n",
    "\n",
    "monitor = EarlyStopping(monitor='val_loss', min_delta=1e-3, \n",
    "        patience=5, verbose=1, mode='auto',\n",
    "        restore_best_weights=True)\n",
    "\n",
    "model.set_weights(init_weights)\n",
    "\n",
    "history2 = model.fit(partial_x_train,\n",
    "                    partial_y_train,\n",
    "                    epochs=40,\n",
    "                    batch_size=512,\n",
    "                    callbacks=[monitor],\n",
    "                    validation_data=(x_val, y_val),\n",
    "                    verbose=1)"
   ]
  },
  {
   "cell_type": "code",
   "execution_count": 35,
   "metadata": {
    "colab": {
     "base_uri": "https://localhost:8080/",
     "height": 295
    },
    "id": "10hlVdKkFcwW",
    "outputId": "5f5e7447-fedd-4848-f778-84cf018943c4"
   },
   "outputs": [
    {
     "data": {
      "image/png": "[encoded data removed]",
      "text/plain": [
       "<Figure size 432x288 with 1 Axes>"
      ]
     },
     "metadata": {
      "needs_background": "light"
     },
     "output_type": "display_data"
    }
   ],
   "source": [
    "summarize_loss(history2)"
   ]
  },
  {
   "cell_type": "code",
   "execution_count": 36,
   "metadata": {
    "colab": {
     "base_uri": "https://localhost:8080/",
     "height": 295
    },
    "id": "AdRWOxUQHGIM",
    "outputId": "3b6c0d17-67e6-4942-abd2-65f68696dc0e"
   },
   "outputs": [
    {
     "data": {
      "image/png": "[encoded data removed]",
      "text/plain": [
       "<Figure size 432x288 with 1 Axes>"
      ]
     },
     "metadata": {
      "needs_background": "light"
     },
     "output_type": "display_data"
    }
   ],
   "source": [
    "summarize_accuracy(history2)"
   ]
  }
 ],
 "metadata": {
  "accelerator": "GPU",
  "colab": {
   "collapsed_sections": [],
   "name": "impd_move_classification_with_gnews-swivel-20dim.ipynb",
   "provenance": []
  },
  "gpuClass": "standard",
  "kernelspec": {
   "display_name": "Python 3 (ipykernel)",
   "language": "python",
   "name": "python3"
  },
  "language_info": {
   "codemirror_mode": {
    "name": "ipython",
    "version": 3
   },
   "file_extension": ".py",
   "mimetype": "text/x-python",
   "name": "python",
   "nbconvert_exporter": "python",
   "pygments_lexer": "ipython3",
   "version": "3.9.12"
  }
 },
 "nbformat": 4,
 "nbformat_minor": 1
}
